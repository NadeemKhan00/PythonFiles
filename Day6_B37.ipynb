{
 "cells": [
  {
   "cell_type": "code",
   "execution_count": 1,
   "metadata": {},
   "outputs": [
    {
     "name": "stdout",
     "output_type": "stream",
     "text": [
      "['shafi', 'akshay', 'ibrahim', 'kavya', 'swetha', 'sumaiya', 'venu', 'dinesh']\n"
     ]
    }
   ],
   "source": [
    "students=['shafi','akshay','ibrahim','kavya','swetha','sumaiya','venu','dinesh']\n",
    "print(students)"
   ]
  },
  {
   "cell_type": "code",
   "execution_count": 2,
   "metadata": {},
   "outputs": [
    {
     "data": {
      "text/plain": [
       "list"
      ]
     },
     "execution_count": 2,
     "metadata": {},
     "output_type": "execute_result"
    }
   ],
   "source": [
    "type(students)"
   ]
  },
  {
   "cell_type": "code",
   "execution_count": 6,
   "metadata": {},
   "outputs": [
    {
     "name": "stdout",
     "output_type": "stream",
     "text": [
      "keep up the good work,Shafi\n"
     ]
    }
   ],
   "source": [
    "#REQ : I want to appreciate all students in the above list\n",
    "print(f\"keep up the good work,{students[0].title()}\")"
   ]
  },
  {
   "cell_type": "code",
   "execution_count": 7,
   "metadata": {},
   "outputs": [
    {
     "name": "stdout",
     "output_type": "stream",
     "text": [
      "keep up the good work,Akshay\n"
     ]
    }
   ],
   "source": [
    "print(f\"keep up the good work,{students[1].title()}\")"
   ]
  },
  {
   "cell_type": "code",
   "execution_count": null,
   "metadata": {},
   "outputs": [],
   "source": [
    "#Introduction to 'for' loops\n",
    "#General Syntax of 'for' loop:\n",
    "#for tempvar in mainvar\n",
    "#print(tempvar)\n",
    "\n"
   ]
  },
  {
   "cell_type": "code",
   "execution_count": 11,
   "metadata": {},
   "outputs": [
    {
     "name": "stdout",
     "output_type": "stream",
     "text": [
      "keep up the good work,Shafi\n",
      "keep up the good work,Akshay\n",
      "keep up the good work,Ibrahim\n",
      "keep up the good work,Kavya\n",
      "keep up the good work,Swetha\n",
      "keep up the good work,Sumaiya\n",
      "keep up the good work,Venu\n",
      "keep up the good work,Dinesh\n"
     ]
    }
   ],
   "source": [
    "for x in students:\n",
    "    print(f\"keep up the good work,{x.title()}\")"
   ]
  },
  {
   "cell_type": "code",
   "execution_count": null,
   "metadata": {},
   "outputs": [],
   "source": [
    "#Enhancement of the Code.\n",
    "# I also want to let them know that i'm looking for practice file of today\n",
    "\n"
   ]
  },
  {
   "cell_type": "code",
   "execution_count": 12,
   "metadata": {},
   "outputs": [
    {
     "name": "stdout",
     "output_type": "stream",
     "text": [
      "keep up the good work,Shafi\n",
      "Iam looking forward to receive practice files,Shafi\n",
      "keep up the good work,Akshay\n",
      "Iam looking forward to receive practice files,Akshay\n",
      "keep up the good work,Ibrahim\n",
      "Iam looking forward to receive practice files,Ibrahim\n",
      "keep up the good work,Kavya\n",
      "Iam looking forward to receive practice files,Kavya\n",
      "keep up the good work,Swetha\n",
      "Iam looking forward to receive practice files,Swetha\n",
      "keep up the good work,Sumaiya\n",
      "Iam looking forward to receive practice files,Sumaiya\n",
      "keep up the good work,Venu\n",
      "Iam looking forward to receive practice files,Venu\n",
      "keep up the good work,Dinesh\n",
      "Iam looking forward to receive practice files,Dinesh\n"
     ]
    }
   ],
   "source": [
    "for a in students:\n",
    "    print(f\"keep up the good work,{a.title()}\")\n",
    "    print(f\"Iam looking forward to receive practice files,{a.title()}\")"
   ]
  },
  {
   "cell_type": "code",
   "execution_count": 13,
   "metadata": {},
   "outputs": [
    {
     "name": "stdout",
     "output_type": "stream",
     "text": [
      "keep up the good work,Shafi\n",
      "Iam looking forward to receive practice files,Shafi.\n",
      "\n",
      "keep up the good work,Akshay\n",
      "Iam looking forward to receive practice files,Akshay.\n",
      "\n",
      "keep up the good work,Ibrahim\n",
      "Iam looking forward to receive practice files,Ibrahim.\n",
      "\n",
      "keep up the good work,Kavya\n",
      "Iam looking forward to receive practice files,Kavya.\n",
      "\n",
      "keep up the good work,Swetha\n",
      "Iam looking forward to receive practice files,Swetha.\n",
      "\n",
      "keep up the good work,Sumaiya\n",
      "Iam looking forward to receive practice files,Sumaiya.\n",
      "\n",
      "keep up the good work,Venu\n",
      "Iam looking forward to receive practice files,Venu.\n",
      "\n",
      "keep up the good work,Dinesh\n",
      "Iam looking forward to receive practice files,Dinesh.\n",
      "\n"
     ]
    }
   ],
   "source": [
    "#Neat Format\n",
    "for a in students:\n",
    "    print(f\"keep up the good work,{a.title()}\")\n",
    "    print(f\"Iam looking forward to receive practice files,{a.title()}.\\n\")"
   ]
  },
  {
   "cell_type": "code",
   "execution_count": 14,
   "metadata": {},
   "outputs": [
    {
     "name": "stdout",
     "output_type": "stream",
     "text": [
      "keep up the good work,Shafi\n",
      "Iam looking forward to receive practice files,Shafi.\n",
      "\n",
      "keep up the good work,Akshay\n",
      "Iam looking forward to receive practice files,Akshay.\n",
      "\n",
      "keep up the good work,Ibrahim\n",
      "Iam looking forward to receive practice files,Ibrahim.\n",
      "\n",
      "keep up the good work,Kavya\n",
      "Iam looking forward to receive practice files,Kavya.\n",
      "\n",
      "keep up the good work,Swetha\n",
      "Iam looking forward to receive practice files,Swetha.\n",
      "\n",
      "keep up the good work,Sumaiya\n",
      "Iam looking forward to receive practice files,Sumaiya.\n",
      "\n",
      "keep up the good work,Venu\n",
      "Iam looking forward to receive practice files,Venu.\n",
      "\n",
      "keep up the good work,Dinesh\n",
      "Iam looking forward to receive practice files,Dinesh.\n",
      "\n",
      "Thank you all for sharing interest in learning python\n"
     ]
    }
   ],
   "source": [
    "#Writing in the loop and #Writing out of the loop\n",
    "for a in students:\n",
    "    print(f\"keep up the good work,{a.title()}\")\n",
    "    print(f\"Iam looking forward to receive practice files,{a.title()}.\\n\")\n",
    "print('Thank you all for sharing interest in learning python')   #Out of the loop"
   ]
  },
  {
   "cell_type": "code",
   "execution_count": null,
   "metadata": {},
   "outputs": [],
   "source": []
  }
 ],
 "metadata": {
  "kernelspec": {
   "display_name": "Python 3",
   "language": "python",
   "name": "python3"
  },
  "language_info": {
   "codemirror_mode": {
    "name": "ipython",
    "version": 3
   },
   "file_extension": ".py",
   "mimetype": "text/x-python",
   "name": "python",
   "nbconvert_exporter": "python",
   "pygments_lexer": "ipython3",
   "version": "3.8.5"
  }
 },
 "nbformat": 4,
 "nbformat_minor": 4
}
