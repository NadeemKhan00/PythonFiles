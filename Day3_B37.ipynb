{
 "cells": [
  {
   "cell_type": "code",
   "execution_count": 1,
   "metadata": {},
   "outputs": [
    {
     "name": "stdout",
     "output_type": "stream",
     "text": [
      "nadeem khan\n"
     ]
    }
   ],
   "source": [
    "# Continuation with strings\n",
    "# String methods\n",
    "\n",
    "fullname = 'nadeem khan'\n",
    "print(fullname)"
   ]
  },
  {
   "cell_type": "code",
   "execution_count": 2,
   "metadata": {},
   "outputs": [
    {
     "name": "stdout",
     "output_type": "stream",
     "text": [
      "Nadeem Khan\n"
     ]
    }
   ],
   "source": [
    "print(fullname.title()) # title method"
   ]
  },
  {
   "cell_type": "code",
   "execution_count": 3,
   "metadata": {},
   "outputs": [
    {
     "name": "stdout",
     "output_type": "stream",
     "text": [
      "NADEEM KHAN\n"
     ]
    }
   ],
   "source": [
    "#REQ: To have full name in Capitals..\n",
    "print(fullname.upper()) # upper method "
   ]
  },
  {
   "cell_type": "code",
   "execution_count": 4,
   "metadata": {},
   "outputs": [
    {
     "name": "stdout",
     "output_type": "stream",
     "text": [
      "nadeem khan\n"
     ]
    }
   ],
   "source": [
    "#REQ: To have full name in small case letters.\n",
    "print(fullname.lower()) # lower method"
   ]
  },
  {
   "cell_type": "code",
   "execution_count": 9,
   "metadata": {},
   "outputs": [
    {
     "name": "stdout",
     "output_type": "stream",
     "text": [
      "Suresh Kumar\n"
     ]
    }
   ],
   "source": [
    "# Introduction to f strings :\n",
    "# general syntax of f strings\n",
    "# f \"Customwords {placeholder1}{placeholder2}....{placeholdern}\"\n",
    "# Note : PlaceHolder is ref pts of variable that we have created.\n",
    "\n",
    "firstname = 'Suresh'\n",
    "lastname = 'Kumar'\n",
    "# I want to have full name....\n",
    "fullname = f\"{firstname} {lastname}\"\n",
    "print(fullname)"
   ]
  },
  {
   "cell_type": "code",
   "execution_count": 10,
   "metadata": {},
   "outputs": [
    {
     "name": "stdout",
     "output_type": "stream",
     "text": [
      "Keep Up The Good Work,Suresh Kumar\n"
     ]
    }
   ],
   "source": [
    "#REQ: Want to Appreciate Suresh\n",
    "fullname = f\"Keep up the good work,{firstname} {lastname}\"\n",
    "print(fullname.title())"
   ]
  },
  {
   "cell_type": "code",
   "execution_count": 11,
   "metadata": {},
   "outputs": [
    {
     "name": "stdout",
     "output_type": "stream",
     "text": [
      "fav_lang: pythoncjavac++javascripthtml\n"
     ]
    }
   ],
   "source": [
    "#Adding whitespaces to strings:\n",
    "#REQ: I want to conduct a survey among grp of students of there favourite programming lang\n",
    "print('fav_lang: pythoncjavac++javascripthtml')"
   ]
  },
  {
   "cell_type": "code",
   "execution_count": 13,
   "metadata": {},
   "outputs": [
    {
     "name": "stdout",
     "output_type": "stream",
     "text": [
      "fav_lang: \n",
      "python\n",
      "C\n",
      "java\n",
      "C++\n",
      "javascript\n",
      "html\n"
     ]
    }
   ],
   "source": [
    "#organise the above fav_lang\n",
    "print('fav_lang: \\npython\\nC\\njava\\nC++\\njavascript\\nhtml') # \\n --> new line delimiter"
   ]
  },
  {
   "cell_type": "code",
   "execution_count": 14,
   "metadata": {},
   "outputs": [
    {
     "name": "stdout",
     "output_type": "stream",
     "text": [
      "fav_lang: \n",
      "\tpython\n",
      "\tC\n",
      "\tjava\n",
      "\tC++\n",
      "\tjavascript\n",
      "\thtml\n"
     ]
    }
   ],
   "source": [
    "# Enhancement of the Code by giving tab delimiter also\n",
    "print('fav_lang: \\n\\tpython\\n\\tC\\n\\tjava\\n\\tC++\\n\\tjavascript\\n\\thtml') # \\t --> tab delimiter"
   ]
  },
  {
   "cell_type": "code",
   "execution_count": 16,
   "metadata": {},
   "outputs": [
    {
     "name": "stdout",
     "output_type": "stream",
     "text": [
      "    sid\n"
     ]
    }
   ],
   "source": [
    "#Removing white spaces from the strings\n",
    "name = '    sid'\n",
    "print(name)"
   ]
  },
  {
   "cell_type": "code",
   "execution_count": 17,
   "metadata": {},
   "outputs": [
    {
     "name": "stdout",
     "output_type": "stream",
     "text": [
      "sid\n"
     ]
    }
   ],
   "source": [
    "# left strip --> Eliminate gaps on left side\n",
    "# right strip --> Eliminate gaps on right side\n",
    "# strip ---> Eliminate gaps on both side\n",
    "\n",
    "print(name.lstrip())"
   ]
  },
  {
   "cell_type": "code",
   "execution_count": 18,
   "metadata": {},
   "outputs": [
    {
     "name": "stdout",
     "output_type": "stream",
     "text": [
      "anis   \n"
     ]
    }
   ],
   "source": [
    "name2 = 'anis   '\n",
    "print(name2)"
   ]
  },
  {
   "cell_type": "code",
   "execution_count": 19,
   "metadata": {},
   "outputs": [
    {
     "name": "stdout",
     "output_type": "stream",
     "text": [
      "anis\n"
     ]
    }
   ],
   "source": [
    "print(name2.rstrip())"
   ]
  },
  {
   "cell_type": "code",
   "execution_count": 20,
   "metadata": {},
   "outputs": [
    {
     "name": "stdout",
     "output_type": "stream",
     "text": [
      "   khan    \n"
     ]
    }
   ],
   "source": [
    "name3 = '   khan    '\n",
    "print(name3)"
   ]
  },
  {
   "cell_type": "code",
   "execution_count": 22,
   "metadata": {},
   "outputs": [
    {
     "name": "stdout",
     "output_type": "stream",
     "text": [
      "khan\n"
     ]
    }
   ],
   "source": [
    "print(name3.strip())"
   ]
  },
  {
   "cell_type": "code",
   "execution_count": null,
   "metadata": {},
   "outputs": [],
   "source": []
  }
 ],
 "metadata": {
  "kernelspec": {
   "display_name": "Python 3",
   "language": "python",
   "name": "python3"
  },
  "language_info": {
   "codemirror_mode": {
    "name": "ipython",
    "version": 3
   },
   "file_extension": ".py",
   "mimetype": "text/x-python",
   "name": "python",
   "nbconvert_exporter": "python",
   "pygments_lexer": "ipython3",
   "version": "3.8.5"
  }
 },
 "nbformat": 4,
 "nbformat_minor": 4
}
