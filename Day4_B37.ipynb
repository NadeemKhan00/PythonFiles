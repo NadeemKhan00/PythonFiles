{
 "cells": [
  {
   "cell_type": "code",
   "execution_count": 1,
   "metadata": {},
   "outputs": [
    {
     "name": "stdout",
     "output_type": "stream",
     "text": [
      "['akshay', 'anis', 'sid', 'nad', 'divya']\n"
     ]
    }
   ],
   "source": [
    "#Introduction to list datatype\n",
    "#Defn: List is a collection of items in particular order.\n",
    "#Classification: It is a mutable datatype\n",
    "#How to define the list ? ...==> []\n",
    "\n",
    "students=['akshay','anis','sid','nad','divya']\n",
    "print(students)"
   ]
  },
  {
   "cell_type": "code",
   "execution_count": 2,
   "metadata": {},
   "outputs": [
    {
     "data": {
      "text/plain": [
       "list"
      ]
     },
     "execution_count": 2,
     "metadata": {},
     "output_type": "execute_result"
    }
   ],
   "source": [
    "#How to validate above is the list only ..?\n",
    "type(students)"
   ]
  },
  {
   "cell_type": "code",
   "execution_count": 3,
   "metadata": {},
   "outputs": [
    {
     "name": "stdout",
     "output_type": "stream",
     "text": [
      "nad\n"
     ]
    }
   ],
   "source": [
    "#How to access the elements from the list\n",
    "#Introduction to indexing\n",
    "#0,1,2,3.......\n",
    "\n",
    "#REQ: I want to access 'nad' from the list\n",
    "print(students[3])"
   ]
  },
  {
   "cell_type": "code",
   "execution_count": 4,
   "metadata": {},
   "outputs": [
    {
     "name": "stdout",
     "output_type": "stream",
     "text": [
      "Nad\n"
     ]
    }
   ],
   "source": [
    "print(students[3].title())"
   ]
  },
  {
   "cell_type": "code",
   "execution_count": 5,
   "metadata": {},
   "outputs": [
    {
     "name": "stdout",
     "output_type": "stream",
     "text": [
      "['akshay', 'anis', 'sid', 'nad', 'divya', 'sumaya']\n"
     ]
    }
   ],
   "source": [
    "#1.How to add new elements to the list\n",
    "#2.How to modify element from the list\n",
    "#3.How to delete the element from the list\n",
    "\n",
    "#1.How to add new elements to the list ?\n",
    "\n",
    "#REQ: I want to add sumaya to the above list\n",
    "students.append('sumaya')\n",
    "print(students)\n",
    "\n"
   ]
  },
  {
   "cell_type": "code",
   "execution_count": 6,
   "metadata": {},
   "outputs": [
    {
     "name": "stdout",
     "output_type": "stream",
     "text": [
      "['akshay', 'anis', 'sid', 'nad', 'divya', 'sumaya', 'ali']\n"
     ]
    }
   ],
   "source": [
    "#REQ: I want to add 'ali' to the above list\n",
    "students.append('ali')\n",
    "print(students)"
   ]
  },
  {
   "cell_type": "code",
   "execution_count": 9,
   "metadata": {},
   "outputs": [
    {
     "name": "stdout",
     "output_type": "stream",
     "text": [
      "['akshay', 'anis', 'raghav', 'sid', 'nad', 'divya', 'sumaya', 'ali']\n"
     ]
    }
   ],
   "source": [
    "#REQ: I want to add 'raghav' to 2nd index position\n",
    "students.insert(2,'raghav')\n",
    "print(students)"
   ]
  },
  {
   "cell_type": "code",
   "execution_count": 10,
   "metadata": {},
   "outputs": [
    {
     "name": "stdout",
     "output_type": "stream",
     "text": [
      "['akshay', 'anis', 'raghav', 'sid', 'nad', 'divya', 'sumaya', 'ali']\n"
     ]
    }
   ],
   "source": [
    "#Interview Question : What is the diff b/n append Vs insert in a list\n",
    "#Append --> Adding elements at the last\n",
    "#Insert --> Insert elements at customised place\n",
    "\n",
    "2. #How to modify the element from the list\n",
    "print(students)"
   ]
  },
  {
   "cell_type": "code",
   "execution_count": 11,
   "metadata": {},
   "outputs": [
    {
     "name": "stdout",
     "output_type": "stream",
     "text": [
      "['akshay', 'anis', 'raghav', 'raj', 'nad', 'divya', 'sumaya', 'ali']\n"
     ]
    }
   ],
   "source": [
    "#REQ : I want to modify sid --> raj\n",
    "students[3]='raj'\n",
    "print(students)"
   ]
  },
  {
   "cell_type": "code",
   "execution_count": 12,
   "metadata": {},
   "outputs": [
    {
     "name": "stdout",
     "output_type": "stream",
     "text": [
      "['akshay', 'anis', 'raghav', 'raj', 'nad', 'sumaya', 'ali']\n"
     ]
    }
   ],
   "source": [
    "3. #How to delete elements from the list ?\n",
    "#REQ: I want to delete 'divya' from the list\n",
    "del students[5]\n",
    "print(students)"
   ]
  },
  {
   "cell_type": "code",
   "execution_count": null,
   "metadata": {},
   "outputs": [],
   "source": []
  }
 ],
 "metadata": {
  "kernelspec": {
   "display_name": "Python 3",
   "language": "python",
   "name": "python3"
  },
  "language_info": {
   "codemirror_mode": {
    "name": "ipython",
    "version": 3
   },
   "file_extension": ".py",
   "mimetype": "text/x-python",
   "name": "python",
   "nbconvert_exporter": "python",
   "pygments_lexer": "ipython3",
   "version": "3.8.5"
  }
 },
 "nbformat": 4,
 "nbformat_minor": 4
}
