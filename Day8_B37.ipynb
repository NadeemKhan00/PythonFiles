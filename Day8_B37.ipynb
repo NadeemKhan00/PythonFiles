{
 "cells": [
  {
   "cell_type": "code",
   "execution_count": 3,
   "metadata": {},
   "outputs": [
    {
     "name": "stdout",
     "output_type": "stream",
     "text": [
      "{'color': 'green', 'points': 5}\n"
     ]
    }
   ],
   "source": [
    "\n",
    "alien={'color':'green','points':5}\n",
    "print(alien)"
   ]
  },
  {
   "cell_type": "code",
   "execution_count": 4,
   "metadata": {},
   "outputs": [
    {
     "name": "stdout",
     "output_type": "stream",
     "text": [
      "{'color': 'green', 'points': 5, 'start_position': 0, 'current_position': 5}\n"
     ]
    }
   ],
   "source": [
    "#How to add new key-value pairs\n",
    "alien['start_position']=0\n",
    "alien['current_position']=5\n",
    "print(alien)"
   ]
  },
  {
   "cell_type": "code",
   "execution_count": 6,
   "metadata": {},
   "outputs": [
    {
     "name": "stdout",
     "output_type": "stream",
     "text": [
      "{'color': 'yellow', 'points': 10, 'start_position': 0, 'current_position': 5}\n"
     ]
    }
   ],
   "source": [
    "#How to modify key-value pairs\n",
    "#REQ: Change the color of the alien from 'green' to 'yellow' And Change the points to 10\n",
    "alien['color']='yellow'\n",
    "alien['points']=10\n",
    "print(alien)"
   ]
  },
  {
   "cell_type": "code",
   "execution_count": 7,
   "metadata": {},
   "outputs": [
    {
     "name": "stdout",
     "output_type": "stream",
     "text": [
      "{'color': 'yellow', 'points': 10, 'current_position': 5}\n"
     ]
    }
   ],
   "source": [
    "#How to delete key-value paits from the dictionary\n",
    "#REQ: delete the 'start_position'\n",
    "del alien['start_position']\n",
    "print(alien)"
   ]
  },
  {
   "cell_type": "code",
   "execution_count": null,
   "metadata": {},
   "outputs": [],
   "source": [
    "#Implementation of 'for' loop under a dictionary\n",
    "#General Syntax\n",
    "for tempvar1,tempvar2 in mainvar.items():\n",
    "    print(tempvar1)\n",
    "    print(tempvar2)\n",
    "    "
   ]
  },
  {
   "cell_type": "code",
   "execution_count": 8,
   "metadata": {},
   "outputs": [
    {
     "name": "stdout",
     "output_type": "stream",
     "text": [
      "color\n",
      "yellow\n",
      "points\n",
      "10\n",
      "current_position\n",
      "5\n"
     ]
    }
   ],
   "source": [
    "for x,y in alien.items():\n",
    "    print(x)\n",
    "    print(y)"
   ]
  },
  {
   "cell_type": "code",
   "execution_count": 10,
   "metadata": {},
   "outputs": [
    {
     "name": "stdout",
     "output_type": "stream",
     "text": [
      "key-color\n",
      "value-yellow.\n",
      "\n",
      "key-points\n",
      "value-10.\n",
      "\n",
      "key-current_position\n",
      "value-5.\n",
      "\n"
     ]
    }
   ],
   "source": [
    "#Enhancement of the Code\n",
    "for x,y in alien.items():\n",
    "    print(f\"key-{x}\")\n",
    "    print(f\"value-{y}.\\n\")"
   ]
  },
  {
   "cell_type": "code",
   "execution_count": null,
   "metadata": {},
   "outputs": [],
   "source": []
  }
 ],
 "metadata": {
  "kernelspec": {
   "display_name": "Python 3",
   "language": "python",
   "name": "python3"
  },
  "language_info": {
   "codemirror_mode": {
    "name": "ipython",
    "version": 3
   },
   "file_extension": ".py",
   "mimetype": "text/x-python",
   "name": "python",
   "nbconvert_exporter": "python",
   "pygments_lexer": "ipython3",
   "version": "3.8.5"
  }
 },
 "nbformat": 4,
 "nbformat_minor": 4
}
